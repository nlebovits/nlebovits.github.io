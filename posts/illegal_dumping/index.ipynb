{
  "cells": [
    {
      "cell_type": "raw",
      "metadata": {},
      "source": [
        "---\n",
        "title: \"Predicting Illegal Dumping\"\n",
        "date: 10-19-2023\n",
        "categories: [urban, prediction, climate/environment, public health]\n",
        "image: \"illegal_dumping_grid.png\"\n",
        "---"
      ],
      "id": "7a29c5e6"
    },
    {
      "cell_type": "markdown",
      "metadata": {},
      "source": [
        "```{css echo=FALSE}\n",
        ".embed-container {\n",
        "    position: relative;\n",
        "    padding-bottom: 129%;\n",
        "    height: 0;\n",
        "    overflow: hidden;\n",
        "    max-width: 100%;\n",
        "}\n",
        "\n",
        ".embed-container iframe,\n",
        ".embed-container object,\n",
        ".embed-container embed {\n",
        "    position: absolute;\n",
        "    top: 0;\n",
        "    left: 0;\n",
        "    width: 100%;\n",
        "    height: 100%;\n",
        "}\n",
        "\n",
        ".resp-container {\n",
        "    position: relative;\n",
        "    overflow: hidden;\n",
        "    padding-top: 56.25%;\n",
        "}\n",
        "\n",
        ".resp-iframe {\n",
        "    position: absolute;\n",
        "    top: 0;\n",
        "    left: 0;\n",
        "    width: 100%;\n",
        "    height: 100%;\n",
        "    border: 0;\n",
        "}\n",
        "```\n",
        "\n",
        "\n",
        "Illegal dumping is a major problem in Philadelphia. Especially in low-income, minority neighborhoods, illegal dumping has a significant impact on quality of life, property values, safety, and public health. My interest in illegal dumping dates back to my AmeriCorps years with the city, and is something I've explored in other contacts, including for [Clean & Green Philly](../../dashboard/index.html) and in my [illegal dumping dashboard](../../illegal_dumping_dashboard/index.html) built in R with `flexdashboard`. \n",
        "\n",
        "For one of my assignments in my \"Public Policy Analytics\" class at Penn, I built two Poisson regression-based predictive models to mitigate selection bias in illegal dumping prediction. I incorporated spatial processes into one of the models and evaluted one using spatial cross validation. However, I found that neither model represented an improvement over traditional kernel density estimate-based hotspot prediction. We find that:\n",
        "\n",
        "My full analysis is available on RPubs:\n",
        "\n",
        "\n",
        "```{=html}\n",
        "<div class=\"resp-container\">\n",
        "<iframe src=\"https://rpubs.com/nlebovits/musa-508-hw-3\" style=\"border: 2px\"></iframe>\n",
        "</div>\n",
        "```"
      ],
      "id": "3bbb36ec"
    }
  ],
  "metadata": {
    "kernelspec": {
      "display_name": "Python 3",
      "language": "python",
      "name": "python3"
    }
  },
  "nbformat": 4,
  "nbformat_minor": 5
}