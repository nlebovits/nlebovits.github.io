{
  "cells": [
    {
      "cell_type": "raw",
      "metadata": {},
      "source": [
        "---\n",
        "title: \"Identifying Upzoning Opportunities\"\n",
        "date: 12-22-2023\n",
        "categories: [urban, prediction, machine learning]\n",
        "image: \"zoning.png\"\n",
        "---"
      ],
      "id": "5647f16b"
    },
    {
      "cell_type": "markdown",
      "metadata": {},
      "source": [
        "```{css echo=FALSE}\n",
        ".embed-container {\n",
        "    position: relative;\n",
        "    padding-bottom: 150%;\n",
        "    height: 0;\n",
        "    overflow: hidden;\n",
        "    max-width: 100%;\n",
        "}\n",
        "\n",
        ".embed-container iframe,\n",
        ".embed-container object,\n",
        ".embed-container embed {\n",
        "    position: absolute;\n",
        "    top: 0;\n",
        "    left: 0;\n",
        "    width: 100%;\n",
        "    height: 100%;\n",
        "}\n",
        "\n",
        "```\n",
        "\n",
        "\n",
        "For a \"Public Policy Analytics\" class at Penn, Laura Frances and I analyzed conflicts between anticipated and current zoning. Using a random forest model trained on historic Philadelphia construction permits, we identified areas of the city with restrictive zoning that would potentially hinder anticipated residential development. We then considered how the model could be used to inform efforts at zoning reform and more strategic planning meant to alleviate issues of housing affordability across Philadelphia.\n",
        "\n",
        "\n",
        "```{=html}\n",
        "<!-- No changes needed for the embed-container -->\n",
        "<div class=\"embed-container\">\n",
        "  <iframe src=\"https://nlebovits.github.io/musa-508-2023-final/\" style=\"border: 2px\"></iframe>\n",
        "</div>\n",
        "```"
      ],
      "id": "a91c7983"
    }
  ],
  "metadata": {
    "kernelspec": {
      "name": "python3",
      "language": "python",
      "display_name": "Python 3 (ipykernel)"
    }
  },
  "nbformat": 4,
  "nbformat_minor": 5
}