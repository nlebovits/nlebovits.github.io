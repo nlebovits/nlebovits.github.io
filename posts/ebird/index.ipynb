{
  "cells": [
    {
      "cell_type": "raw",
      "metadata": {},
      "source": [
        "---\n",
        "title: \"Sea Level Rise Threat to Biodiversity\"\n",
        "date: 11-2-2023 \n",
        "categories: [biodiversity, urban, sea level rise]\n",
        "image: \"hotspots.png\"\n",
        "---"
      ],
      "id": "aa9052d8"
    },
    {
      "cell_type": "markdown",
      "metadata": {},
      "source": [
        "In this project, I explore the potential of using publicly available citizen science data from eBird to asses the threat of sea level rise to bird biodiversity in Philadelphia. Specifically, the John Heinz National Wildlife Refuge, Pennypack on the Delaware, and Bartram’s Garden are identified as areas facing a particularly high threat by sea level rise to biodiversity. Future efforts along these lines should focus on improving on the statistical rigor of this analysis and standardizing a streamlined workflow to allow for replication in Philadelphia and other cities, while also striving to interface with local government and community members to translate this model into concrete conservation efforts.\n",
        "\n",
        "\n",
        "\n",
        "\n",
        "```{css echo=FALSE}\n",
        ".embed-container {\n",
        "    position: relative;\n",
        "    padding-bottom: 129%;\n",
        "    height: 0;\n",
        "    overflow: hidden;\n",
        "    max-width: 100%;\n",
        "}\n",
        "\n",
        ".embed-container iframe,\n",
        ".embed-container object,\n",
        ".embed-container embed {\n",
        "    position: absolute;\n",
        "    top: 0;\n",
        "    left: 0;\n",
        "    width: 100%;\n",
        "    height: 100%;\n",
        "}\n",
        "\n",
        ".resp-container {\n",
        "    position: relative;\n",
        "    overflow: hidden;\n",
        "    padding-top: 56.25%;\n",
        "}\n",
        "\n",
        ".resp-iframe {\n",
        "    position: absolute;\n",
        "    top: 0;\n",
        "    left: 0;\n",
        "    width: 100%;\n",
        "    height: 100%;\n",
        "    border: 0;\n",
        "}\n",
        "```\n",
        "\n",
        "```{=html}\n",
        "<div class=\"resp-container\">\n",
        "    <iframe class=\"resp-iframe\" src=\"https://rpubs.com/nlebovits/birds-slr-phl\"></iframe>\n",
        "</div>\n",
        "```"
      ],
      "id": "65a2d7ec"
    }
  ],
  "metadata": {
    "kernelspec": {
      "name": "python3",
      "language": "python",
      "display_name": "Python 3 (ipykernel)"
    }
  },
  "nbformat": 4,
  "nbformat_minor": 5
}